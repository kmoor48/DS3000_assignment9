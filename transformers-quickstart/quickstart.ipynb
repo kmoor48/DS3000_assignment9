{
  "cells": [
    {
      "cell_type": "markdown",
      "metadata": {
        "cell_marker": "\"\"\"",
        "id": "D27f161wmB8D"
      },
      "source": [
        "Transformers: Quick Start\n",
        "=========================\n",
        "\n",
        "In this tutorial, we are going to deploy a language model to Model Zoo with\n",
        "[HuggingFace Transformers](https://huggingface.co/transformers/) and use it to\n",
        "generate an original passage of text.\n",
        "\n",
        "You can follow along this tutorial in any Python environment you're comfortable\n",
        "with, such as a Python IDE, Jupyter notebook, or a Python terminal. The easiest\n",
        "option is to open this tutorial directly in colab:\n",
        "\n",
        "[![Open In Colab](https://colab.research.google.com/assets/colab-badge.svg)](https://colab.research.google.com/github/model-zoo/examples/blob/master/transformers-quickstart/quickstart.ipynb)\n",
        "\n",
        "Installation\n",
        "------------\n",
        "\n",
        "Install the Model Zoo client library via pip:"
      ]
    },
    {
      "cell_type": "code",
      "execution_count": 11,
      "metadata": {
        "colab": {
          "base_uri": "https://localhost:8080/"
        },
        "id": "68RwxkOrmB8E",
        "outputId": "ae304551-46d3-4b64-a398-43bb7efc58d2"
      },
      "outputs": [
        {
          "output_type": "stream",
          "name": "stdout",
          "text": [
            "Requirement already satisfied: modelzoo-client[transformers] in /usr/local/lib/python3.10/dist-packages (0.15.0)\n",
            "Requirement already satisfied: tqdm in /usr/local/lib/python3.10/dist-packages (from modelzoo-client[transformers]) (4.66.6)\n",
            "Requirement already satisfied: requests in /usr/local/lib/python3.10/dist-packages (from modelzoo-client[transformers]) (2.32.3)\n",
            "Requirement already satisfied: Pillow in /usr/local/lib/python3.10/dist-packages (from modelzoo-client[transformers]) (11.0.0)\n",
            "Requirement already satisfied: colorama==0.4.3 in /usr/local/lib/python3.10/dist-packages (from modelzoo-client[transformers]) (0.4.3)\n",
            "Requirement already satisfied: termcolor==1.1.0 in /usr/local/lib/python3.10/dist-packages (from modelzoo-client[transformers]) (1.1.0)\n",
            "Requirement already satisfied: yaspin==0.16.0 in /usr/local/lib/python3.10/dist-packages (from modelzoo-client[transformers]) (0.16.0)\n",
            "Requirement already satisfied: names==0.3.0 in /usr/local/lib/python3.10/dist-packages (from modelzoo-client[transformers]) (0.3.0)\n",
            "Requirement already satisfied: click==7.1 in /usr/local/lib/python3.10/dist-packages (from modelzoo-client[transformers]) (7.1)\n",
            "Requirement already satisfied: transformers>=2.10.0 in /usr/local/lib/python3.10/dist-packages (from modelzoo-client[transformers]) (4.46.2)\n",
            "Requirement already satisfied: torch in /usr/local/lib/python3.10/dist-packages (from modelzoo-client[transformers]) (2.5.0+cu121)\n",
            "Requirement already satisfied: filelock in /usr/local/lib/python3.10/dist-packages (from transformers>=2.10.0->modelzoo-client[transformers]) (3.16.1)\n",
            "Requirement already satisfied: huggingface-hub<1.0,>=0.23.2 in /usr/local/lib/python3.10/dist-packages (from transformers>=2.10.0->modelzoo-client[transformers]) (0.26.2)\n",
            "Requirement already satisfied: numpy>=1.17 in /usr/local/lib/python3.10/dist-packages (from transformers>=2.10.0->modelzoo-client[transformers]) (1.26.4)\n",
            "Requirement already satisfied: packaging>=20.0 in /usr/local/lib/python3.10/dist-packages (from transformers>=2.10.0->modelzoo-client[transformers]) (24.2)\n",
            "Requirement already satisfied: pyyaml>=5.1 in /usr/local/lib/python3.10/dist-packages (from transformers>=2.10.0->modelzoo-client[transformers]) (6.0.2)\n",
            "Requirement already satisfied: regex!=2019.12.17 in /usr/local/lib/python3.10/dist-packages (from transformers>=2.10.0->modelzoo-client[transformers]) (2024.9.11)\n",
            "Requirement already satisfied: safetensors>=0.4.1 in /usr/local/lib/python3.10/dist-packages (from transformers>=2.10.0->modelzoo-client[transformers]) (0.4.5)\n",
            "Requirement already satisfied: tokenizers<0.21,>=0.20 in /usr/local/lib/python3.10/dist-packages (from transformers>=2.10.0->modelzoo-client[transformers]) (0.20.3)\n",
            "Requirement already satisfied: charset-normalizer<4,>=2 in /usr/local/lib/python3.10/dist-packages (from requests->modelzoo-client[transformers]) (3.4.0)\n",
            "Requirement already satisfied: idna<4,>=2.5 in /usr/local/lib/python3.10/dist-packages (from requests->modelzoo-client[transformers]) (3.10)\n",
            "Requirement already satisfied: urllib3<3,>=1.21.1 in /usr/local/lib/python3.10/dist-packages (from requests->modelzoo-client[transformers]) (2.2.3)\n",
            "Requirement already satisfied: certifi>=2017.4.17 in /usr/local/lib/python3.10/dist-packages (from requests->modelzoo-client[transformers]) (2024.8.30)\n",
            "Requirement already satisfied: typing-extensions>=4.8.0 in /usr/local/lib/python3.10/dist-packages (from torch->modelzoo-client[transformers]) (4.12.2)\n",
            "Requirement already satisfied: networkx in /usr/local/lib/python3.10/dist-packages (from torch->modelzoo-client[transformers]) (3.4.2)\n",
            "Requirement already satisfied: jinja2 in /usr/local/lib/python3.10/dist-packages (from torch->modelzoo-client[transformers]) (3.1.4)\n",
            "Requirement already satisfied: fsspec in /usr/local/lib/python3.10/dist-packages (from torch->modelzoo-client[transformers]) (2024.10.0)\n",
            "Requirement already satisfied: sympy==1.13.1 in /usr/local/lib/python3.10/dist-packages (from torch->modelzoo-client[transformers]) (1.13.1)\n",
            "Requirement already satisfied: mpmath<1.4,>=1.1.0 in /usr/local/lib/python3.10/dist-packages (from sympy==1.13.1->torch->modelzoo-client[transformers]) (1.3.0)\n",
            "Requirement already satisfied: MarkupSafe>=2.0 in /usr/local/lib/python3.10/dist-packages (from jinja2->torch->modelzoo-client[transformers]) (3.0.2)\n",
            "Requirement already satisfied: modelzoo-client[ipywidgets] in /usr/local/lib/python3.10/dist-packages (0.15.0)\n",
            "\u001b[33mWARNING: modelzoo-client 0.15.0 does not provide the extra 'ipywidgets'\u001b[0m\u001b[33m\n",
            "\u001b[0mRequirement already satisfied: tqdm in /usr/local/lib/python3.10/dist-packages (from modelzoo-client[ipywidgets]) (4.66.6)\n",
            "Requirement already satisfied: requests in /usr/local/lib/python3.10/dist-packages (from modelzoo-client[ipywidgets]) (2.32.3)\n",
            "Requirement already satisfied: Pillow in /usr/local/lib/python3.10/dist-packages (from modelzoo-client[ipywidgets]) (11.0.0)\n",
            "Requirement already satisfied: colorama==0.4.3 in /usr/local/lib/python3.10/dist-packages (from modelzoo-client[ipywidgets]) (0.4.3)\n",
            "Requirement already satisfied: termcolor==1.1.0 in /usr/local/lib/python3.10/dist-packages (from modelzoo-client[ipywidgets]) (1.1.0)\n",
            "Requirement already satisfied: yaspin==0.16.0 in /usr/local/lib/python3.10/dist-packages (from modelzoo-client[ipywidgets]) (0.16.0)\n",
            "Requirement already satisfied: names==0.3.0 in /usr/local/lib/python3.10/dist-packages (from modelzoo-client[ipywidgets]) (0.3.0)\n",
            "Requirement already satisfied: click==7.1 in /usr/local/lib/python3.10/dist-packages (from modelzoo-client[ipywidgets]) (7.1)\n",
            "Requirement already satisfied: charset-normalizer<4,>=2 in /usr/local/lib/python3.10/dist-packages (from requests->modelzoo-client[ipywidgets]) (3.4.0)\n",
            "Requirement already satisfied: idna<4,>=2.5 in /usr/local/lib/python3.10/dist-packages (from requests->modelzoo-client[ipywidgets]) (3.10)\n",
            "Requirement already satisfied: urllib3<3,>=1.21.1 in /usr/local/lib/python3.10/dist-packages (from requests->modelzoo-client[ipywidgets]) (2.2.3)\n",
            "Requirement already satisfied: certifi>=2017.4.17 in /usr/local/lib/python3.10/dist-packages (from requests->modelzoo-client[ipywidgets]) (2024.8.30)\n"
          ]
        }
      ],
      "source": [
        "!pip install modelzoo-client[transformers]\n",
        "!pip install modelzoo-client[ipywidgets]"
      ]
    },
    {
      "cell_type": "markdown",
      "metadata": {
        "cell_marker": "##############################################################################",
        "id": "e1zm-wHWmB8F"
      },
      "source": [
        "\n",
        "To deploy and use your own models, you'll need to create an account and\n",
        "configure an API key. You can do so from the command line:"
      ]
    },
    {
      "cell_type": "code",
      "execution_count": 12,
      "metadata": {
        "id": "LO7iU3z_mB8F"
      },
      "outputs": [],
      "source": [
        "import torch\n",
        "from IPython.display import display, Markdown\n",
        "torch_device = \"cuda\" if torch.cuda.is_available() else \"cpu\"\n",
        "from transformers import AutoTokenizer, GPT2LMHeadModel, set_seed\n",
        "tokenizer = AutoTokenizer.from_pretrained(\"gpt2\")\n",
        "# add the EOS token as PAD token to avoid warnings\n",
        "model = GPT2LMHeadModel.from_pretrained(\"gpt2\", pad_token_id=tokenizer.eos_token_id)"
      ]
    },
    {
      "cell_type": "markdown",
      "metadata": {
        "cell_marker": "##############################################################################",
        "id": "o0OhVFMemB8F"
      },
      "source": [
        "\n",
        "Load\n",
        "----\n",
        "\n",
        "First, we'll need to train or load a model and tokenizer in the form of a\n",
        "[transformers.Pipeline](https://huggingface.co/transformers/main_classes/pipelines.html)\n",
        "object. Pipeline offers a simple API dedicated to several tasks, including\n",
        "Named Entity Recognition, Masked Language Modeling, Sentiment Analysis,\n",
        "Feature Extraction and Question Answering. Model Zoo relies on this API to\n",
        "figure out how to package and serve your model behind an HTTP endpoint.\n",
        "\n",
        "For the sake of this quickstart, we'll use the default \"text-generation\"\n",
        "pipeline which loads the [OpenAI\n",
        "GPT-2](https://openai.com/blog/better-language-models/) model and tokenizer."
      ]
    },
    {
      "cell_type": "code",
      "execution_count": 13,
      "metadata": {
        "colab": {
          "base_uri": "https://localhost:8080/",
          "height": 69
        },
        "id": "OlHP0l1amB8F",
        "outputId": "f0c3e602-bcb5-4b77-c581-d5db06c2d950"
      },
      "outputs": [
        {
          "output_type": "stream",
          "name": "stdout",
          "text": [
            "My GPT-2 Story:\n",
            "---------------\n"
          ]
        },
        {
          "output_type": "display_data",
          "data": {
            "text/plain": [
              "<IPython.core.display.Markdown object>"
            ]
          },
          "metadata": {}
        }
      ],
      "source": [
        "def show_decoded_tokens(dt):\n",
        "    display(Markdown(dt))\n",
        "\n",
        "print(\"My GPT-2 Story:\")\n",
        "print(\"---------------\")\n",
        "\n",
        "## Replace 'None' with your story; this just wraps the text\n",
        "## to make it easier to read\n",
        "show_decoded_tokens(None)"
      ]
    },
    {
      "cell_type": "markdown",
      "metadata": {
        "cell_marker": "##############################################################################",
        "id": "OkCImsxfmB8F"
      },
      "source": [
        "\n",
        "The Model Zoo free tier currently supports\n",
        "[`transformers.TextGenerationPipeline`](https://huggingface.co/transformers/main_classes/pipelines.html?highlight=transformers.TextGenerationPipeline#transformers.TextGenerationPipeline).\n",
        "If you're interested in deploying other types of pipelines, please reach out\n",
        "to [contact@modelzoo.dev](mailto:contact@modelzoo.dev).\n",
        "\n",
        "Deploy\n",
        "------\n",
        "\n",
        "To deploy this pipeline to a production-ready HTTP endpoint, use the\n",
        "[`modelzoo.transformers.deploy()`](https://docs.modelzoo.dev/reference/modelzoo.transformers.html#modelzoo.transformers.deploy)\n",
        "function. Since GPT2 is a large model with high memory requirements, we\n",
        "override defaults to configure our containers to use 2 GB memory and 1024 CPU\n",
        "units (1 vCPU) with\n",
        "[`modelzoo.ResourcesConfig`](https://docs.modelzoo.dev/reference/modelzoo.html#modelzoo.ResourcesConfig)."
      ]
    },
    {
      "cell_type": "code",
      "execution_count": null,
      "metadata": {
        "id": "JdBIFAVgmB8G"
      },
      "outputs": [],
      "source": [
        "import modelzoo.transformers\n",
        "\n",
        "model_name = modelzoo.transformers.deploy(\n",
        "    pipeline=pipeline,\n",
        "    resources_config=modelzoo.ResourcesConfig(memory_mb=2048, cpu_units=1024),\n",
        ")"
      ]
    },
    {
      "cell_type": "markdown",
      "metadata": {
        "cell_marker": "##############################################################################",
        "id": "67jFRoe4mB8G"
      },
      "source": [
        "\n",
        "That's all there is to it! Behind the scenes, Model Zoo serialized your\n",
        "pipeline, deployed it to a container to serve HTTP requests, and set up a\n",
        "load balancer to route requests to multiple model shards.  If you'd like,\n",
        "take some time to explore the model via the Web UI link. There you'll be able\n",
        "to modify documentation, test the model with raw or visual inputs, monitor\n",
        "metrics and/or logs.\n",
        "\n",
        "You can specify the name of the model you'd like to deploy via a ``model_name``\n",
        "argument. If a name is omitted, Model Zoo will choose a unique one for you.\n",
        "Model names must be unique to your account.\n",
        "\n",
        "Predict\n",
        "-------\n",
        "\n",
        "Now that the model is deployed, you can use our Python client API to query\n",
        "the language model to generate some text.\n",
        "[`modelzoo.transformers.generate()`](https://docs.modelzoo.dev/reference/modelzoo.transformers.html#modelzoo.transformers.generate)\n",
        "function requires the `model_name` and an optional input string to prime the\n",
        "text generation pipeline."
      ]
    },
    {
      "cell_type": "code",
      "execution_count": null,
      "metadata": {
        "id": "x_zpS0YamB8G"
      },
      "outputs": [],
      "source": [
        "print(\n",
        "    modelzoo.transformers.generate(\n",
        "        model_name, input_str=\"These violent delights have violent ends\"\n",
        "    )\n",
        ")"
      ]
    },
    {
      "cell_type": "markdown",
      "metadata": {
        "cell_marker": "##############################################################################",
        "id": "xYHJfYVfmB8G"
      },
      "source": [
        "\n",
        "Great! At this point, we've used our language model to generate an original\n",
        "passage of text.\n",
        "\n",
        "Manage\n",
        "------\n",
        "\n",
        "By default, Model Zoo will deploy your model and wait for it to get into a\n",
        "`HEALTHY` state, meaning that it's ready for predictions. You can always\n",
        "check on the state of a model by using the\n",
        "[`modelzoo.info()`](https://docs.modelzoo.dev/reference/modelzoo.html#modelzoo.info)\n",
        "function:"
      ]
    },
    {
      "cell_type": "code",
      "execution_count": null,
      "metadata": {
        "id": "th85SsJBmB8G"
      },
      "outputs": [],
      "source": [
        "modelzoo.info(model_name)"
      ]
    },
    {
      "cell_type": "markdown",
      "metadata": {
        "cell_marker": "##############################################################################",
        "id": "DRCbDgJqmB8G"
      },
      "source": [
        "\n",
        "To save resources and shut down any model if you aren't using it, you can use\n",
        "[`modelzoo.stop()`](https://docs.modelzoo.dev/reference/modelzoo.html#modelzoo.stop):"
      ]
    },
    {
      "cell_type": "code",
      "execution_count": null,
      "metadata": {
        "id": "5RyPQ2QvmB8G"
      },
      "outputs": [],
      "source": [
        "modelzoo.stop(model_name)"
      ]
    },
    {
      "cell_type": "markdown",
      "metadata": {
        "cell_marker": "##############################################################################",
        "id": "68AzeCnUmB8H"
      },
      "source": [
        "\n",
        "With Model Zoo you can manage model state manually, or automatically. By\n",
        "default, our free trial will stop any model where there has been no request\n",
        "activity for 15 minutes, saving you resources if you forget to stop manually.\n",
        "Our unlimited version has more options for controlling autoscaling behavior.\n",
        "\n",
        "Interested in what you've seen and want to test drive an unlimited version of\n",
        "Model Zoo? Apply to our [private\n",
        "beta](https://modelzoo.typeform.com/to/Y8U9Lw) and reach out at\n",
        "[contact@modelzoo.dev](mailto:contact@modelzoo.dev) to learn more."
      ]
    }
  ],
  "metadata": {
    "jupytext": {
      "cell_metadata_filter": "-all",
      "main_language": "python",
      "notebook_metadata_filter": "-all"
    },
    "colab": {
      "provenance": []
    },
    "language_info": {
      "name": "python"
    },
    "kernelspec": {
      "name": "python3",
      "display_name": "Python 3"
    }
  },
  "nbformat": 4,
  "nbformat_minor": 0
}