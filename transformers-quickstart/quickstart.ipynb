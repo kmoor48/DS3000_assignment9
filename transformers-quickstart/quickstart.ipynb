{
  "cells": [
    {
      "cell_type": "markdown",
      "metadata": {
        "cell_marker": "\"\"\"",
        "id": "D27f161wmB8D"
      },
      "source": [
        "# Assignment 9 - GPT\n",
        "\n",
        "In this assignment, you will use various transformer models for semantic search and for language generation. We will be using the `transformers` python package from huggingface; **note** that this package will automatically download language models as required the first time the code is run, and they can be quite large. (The entire assignment might download a few GB.) You might want to do this on campus, depending on your internet situation.\n",
        "\n",
        "This assignment is to be done individually. You may discuss the project with your classmates, but the work you turn in should be your own.\n",
        "\n",
        "\n",
        "# Using Generative Language Models\n",
        "\n",
        "## Goal\n",
        "\n",
        "To learn about how generative language models can be used in practice, focusing on GPT-2, which is feasible to run locally without a graphics card.\n",
        "\n",
        "## Setup\n",
        "\n",
        "This part uses the `transformers` package which can be installed with conda or pip.\n",
        "\n",
        "## Questions (100 pts)\n",
        "\n",
        "1. Write a script that generates a \"story\" using a local GPT-2 model. Your story should: 1) be at least 100 words long; 2) not have repeated phrases; and 3) be the same every time your script is run. It might be nonsensical and/or hilarious. Use the skeleton code provided below as a starting point, and <https://huggingface.co/blog/how-to-generate> as a reference document.\n",
        "\n",
        "## Part 2 Deliverables\n",
        "\n",
        "Submit your notebook as an attachment on OWL as well as a PDF version of the notebook.\n",
        "\n",
        "---\n",
        "\n",
        "# Checklist\n",
        "\n",
        "Your owl submission should include the following attachments and no additional files:\n",
        "```\n",
        "Assignment9.ipynb\n",
        "Assignment9.pdf\n",
        "```"
      ]
    },
    {
      "cell_type": "code",
      "execution_count": 27,
      "metadata": {
        "colab": {
          "base_uri": "https://localhost:8080/"
        },
        "collapsed": true,
        "id": "68RwxkOrmB8E",
        "outputId": "276cd6f1-112f-424f-c6db-818d2b13a0df"
      },
      "outputs": [
        {
          "output_type": "stream",
          "name": "stdout",
          "text": [
            "Requirement already satisfied: modelzoo-client[transformers] in /usr/local/lib/python3.10/dist-packages (0.15.0)\n",
            "Requirement already satisfied: tqdm in /usr/local/lib/python3.10/dist-packages (from modelzoo-client[transformers]) (4.66.6)\n",
            "Requirement already satisfied: requests in /usr/local/lib/python3.10/dist-packages (from modelzoo-client[transformers]) (2.32.3)\n",
            "Requirement already satisfied: Pillow in /usr/local/lib/python3.10/dist-packages (from modelzoo-client[transformers]) (11.0.0)\n",
            "Requirement already satisfied: colorama==0.4.3 in /usr/local/lib/python3.10/dist-packages (from modelzoo-client[transformers]) (0.4.3)\n",
            "Requirement already satisfied: termcolor==1.1.0 in /usr/local/lib/python3.10/dist-packages (from modelzoo-client[transformers]) (1.1.0)\n",
            "Requirement already satisfied: yaspin==0.16.0 in /usr/local/lib/python3.10/dist-packages (from modelzoo-client[transformers]) (0.16.0)\n",
            "Requirement already satisfied: names==0.3.0 in /usr/local/lib/python3.10/dist-packages (from modelzoo-client[transformers]) (0.3.0)\n",
            "Requirement already satisfied: click==7.1 in /usr/local/lib/python3.10/dist-packages (from modelzoo-client[transformers]) (7.1)\n",
            "Requirement already satisfied: transformers>=2.10.0 in /usr/local/lib/python3.10/dist-packages (from modelzoo-client[transformers]) (4.46.2)\n",
            "Requirement already satisfied: torch in /usr/local/lib/python3.10/dist-packages (from modelzoo-client[transformers]) (2.5.0+cu121)\n",
            "Requirement already satisfied: filelock in /usr/local/lib/python3.10/dist-packages (from transformers>=2.10.0->modelzoo-client[transformers]) (3.16.1)\n",
            "Requirement already satisfied: huggingface-hub<1.0,>=0.23.2 in /usr/local/lib/python3.10/dist-packages (from transformers>=2.10.0->modelzoo-client[transformers]) (0.26.2)\n",
            "Requirement already satisfied: numpy>=1.17 in /usr/local/lib/python3.10/dist-packages (from transformers>=2.10.0->modelzoo-client[transformers]) (1.26.4)\n",
            "Requirement already satisfied: packaging>=20.0 in /usr/local/lib/python3.10/dist-packages (from transformers>=2.10.0->modelzoo-client[transformers]) (24.2)\n",
            "Requirement already satisfied: pyyaml>=5.1 in /usr/local/lib/python3.10/dist-packages (from transformers>=2.10.0->modelzoo-client[transformers]) (6.0.2)\n",
            "Requirement already satisfied: regex!=2019.12.17 in /usr/local/lib/python3.10/dist-packages (from transformers>=2.10.0->modelzoo-client[transformers]) (2024.9.11)\n",
            "Requirement already satisfied: safetensors>=0.4.1 in /usr/local/lib/python3.10/dist-packages (from transformers>=2.10.0->modelzoo-client[transformers]) (0.4.5)\n",
            "Requirement already satisfied: tokenizers<0.21,>=0.20 in /usr/local/lib/python3.10/dist-packages (from transformers>=2.10.0->modelzoo-client[transformers]) (0.20.3)\n",
            "Requirement already satisfied: charset-normalizer<4,>=2 in /usr/local/lib/python3.10/dist-packages (from requests->modelzoo-client[transformers]) (3.4.0)\n",
            "Requirement already satisfied: idna<4,>=2.5 in /usr/local/lib/python3.10/dist-packages (from requests->modelzoo-client[transformers]) (3.10)\n",
            "Requirement already satisfied: urllib3<3,>=1.21.1 in /usr/local/lib/python3.10/dist-packages (from requests->modelzoo-client[transformers]) (2.2.3)\n",
            "Requirement already satisfied: certifi>=2017.4.17 in /usr/local/lib/python3.10/dist-packages (from requests->modelzoo-client[transformers]) (2024.8.30)\n",
            "Requirement already satisfied: typing-extensions>=4.8.0 in /usr/local/lib/python3.10/dist-packages (from torch->modelzoo-client[transformers]) (4.12.2)\n",
            "Requirement already satisfied: networkx in /usr/local/lib/python3.10/dist-packages (from torch->modelzoo-client[transformers]) (3.4.2)\n",
            "Requirement already satisfied: jinja2 in /usr/local/lib/python3.10/dist-packages (from torch->modelzoo-client[transformers]) (3.1.4)\n",
            "Requirement already satisfied: fsspec in /usr/local/lib/python3.10/dist-packages (from torch->modelzoo-client[transformers]) (2024.10.0)\n",
            "Requirement already satisfied: sympy==1.13.1 in /usr/local/lib/python3.10/dist-packages (from torch->modelzoo-client[transformers]) (1.13.1)\n",
            "Requirement already satisfied: mpmath<1.4,>=1.1.0 in /usr/local/lib/python3.10/dist-packages (from sympy==1.13.1->torch->modelzoo-client[transformers]) (1.3.0)\n",
            "Requirement already satisfied: MarkupSafe>=2.0 in /usr/local/lib/python3.10/dist-packages (from jinja2->torch->modelzoo-client[transformers]) (3.0.2)\n",
            "Requirement already satisfied: modelzoo-client[ipywidgets] in /usr/local/lib/python3.10/dist-packages (0.15.0)\n",
            "\u001b[33mWARNING: modelzoo-client 0.15.0 does not provide the extra 'ipywidgets'\u001b[0m\u001b[33m\n",
            "\u001b[0mRequirement already satisfied: tqdm in /usr/local/lib/python3.10/dist-packages (from modelzoo-client[ipywidgets]) (4.66.6)\n",
            "Requirement already satisfied: requests in /usr/local/lib/python3.10/dist-packages (from modelzoo-client[ipywidgets]) (2.32.3)\n",
            "Requirement already satisfied: Pillow in /usr/local/lib/python3.10/dist-packages (from modelzoo-client[ipywidgets]) (11.0.0)\n",
            "Requirement already satisfied: colorama==0.4.3 in /usr/local/lib/python3.10/dist-packages (from modelzoo-client[ipywidgets]) (0.4.3)\n",
            "Requirement already satisfied: termcolor==1.1.0 in /usr/local/lib/python3.10/dist-packages (from modelzoo-client[ipywidgets]) (1.1.0)\n",
            "Requirement already satisfied: yaspin==0.16.0 in /usr/local/lib/python3.10/dist-packages (from modelzoo-client[ipywidgets]) (0.16.0)\n",
            "Requirement already satisfied: names==0.3.0 in /usr/local/lib/python3.10/dist-packages (from modelzoo-client[ipywidgets]) (0.3.0)\n",
            "Requirement already satisfied: click==7.1 in /usr/local/lib/python3.10/dist-packages (from modelzoo-client[ipywidgets]) (7.1)\n",
            "Requirement already satisfied: charset-normalizer<4,>=2 in /usr/local/lib/python3.10/dist-packages (from requests->modelzoo-client[ipywidgets]) (3.4.0)\n",
            "Requirement already satisfied: idna<4,>=2.5 in /usr/local/lib/python3.10/dist-packages (from requests->modelzoo-client[ipywidgets]) (3.10)\n",
            "Requirement already satisfied: urllib3<3,>=1.21.1 in /usr/local/lib/python3.10/dist-packages (from requests->modelzoo-client[ipywidgets]) (2.2.3)\n",
            "Requirement already satisfied: certifi>=2017.4.17 in /usr/local/lib/python3.10/dist-packages (from requests->modelzoo-client[ipywidgets]) (2024.8.30)\n",
            "Requirement already satisfied: english_words in /usr/local/lib/python3.10/dist-packages (2.0.1)\n",
            "Requirement already satisfied: numpy in /usr/local/lib/python3.10/dist-packages (1.26.4)\n"
          ]
        }
      ],
      "source": [
        "!pip install modelzoo-client[transformers]\n",
        "!pip install modelzoo-client[ipywidgets]\n",
        "!pip install english_words\n",
        "!pip install numpy"
      ]
    },
    {
      "cell_type": "code",
      "execution_count": 28,
      "metadata": {
        "id": "LO7iU3z_mB8F"
      },
      "outputs": [],
      "source": [
        "from english_words import get_english_words_set\n",
        "import numpy as np\n",
        "import torch\n",
        "from IPython.display import display, Markdown\n",
        "torch_device = \"cuda\" if torch.cuda.is_available() else \"cpu\"\n",
        "from transformers import AutoTokenizer, GPT2LMHeadModel, set_seed\n",
        "tokenizer = AutoTokenizer.from_pretrained(\"gpt2\")\n",
        "# add the EOS token as PAD token to avoid warnings\n",
        "model = GPT2LMHeadModel.from_pretrained(\"gpt2\", pad_token_id=tokenizer.eos_token_id)"
      ]
    },
    {
      "cell_type": "code",
      "execution_count": 46,
      "metadata": {
        "colab": {
          "base_uri": "https://localhost:8080/",
          "height": 403
        },
        "id": "OlHP0l1amB8F",
        "outputId": "ac3cdefe-48c4-47f7-b6df-1072d940028f"
      },
      "outputs": [
        {
          "output_type": "stream",
          "name": "stdout",
          "text": [
            "Output:\n",
            "----------------------------------------------------------------------------------------------------\n",
            "My GPT-2 Story:\n",
            "---------------\n"
          ]
        },
        {
          "output_type": "display_data",
          "data": {
            "text/plain": [
              "<IPython.core.display.Markdown object>"
            ],
            "text/markdown": "The quick brown fox jumps over the lazy dog. The simple cat lurks in the shadows. Someone pulls a gun on him with a deep, underhanded gesture, and down to the gutters he runs down the street.\n\n\nThe alley isn't your average street, it's a cold dusty wasteland, with constant traffic. He runs his steps into a tall four-block high wall in the middle of the alley with both men and women smoking cigarettes. The vendors open a tiny alley; everyone tastes an echidna and wears their hair. His mood changes from rock 'n' roll trap to social fad to something colder. \"Awake, man, I want to see my party,\" the few people. They all join one another in the alley and stay with the waiting crowd. One day he starts wondering if his encounter with the monolith that's been blocking his road is his last as an alternate human, ready to join the fight. Maybe it's the trick of his game that's coming down upon him. Then he looks up and sees his pale, tip-toed girlfriend in black hoodie who grins and cowers in front of him. \"I need you to tell me why I'm so big,\" he asks. She laughs, but then looks away.\n\n\n\"Empire's Fair?\"\n\n\nShe's grimacing as she walks out of the alleyway.\n\n\nThe curious group meets up with a gang of pals waiting tables for an ATM. They don't ask any questions as long as"
          },
          "metadata": {}
        }
      ],
      "source": [
        "def show_decoded_tokens(dt):\n",
        "    display(Markdown(dt))\n",
        "\n",
        "set_seed(42)\n",
        "input = \"The quick brown fox jumps over the lazy dog.\"\n",
        "model_inputs = tokenizer(input, return_tensors=\"pt\")\n",
        "sample_output = model.generate(**model_inputs,\n",
        "                                 max_new_tokens=300,\n",
        "                               min_length=100,\n",
        "                                 do_sample=True,\n",
        "                                 top_p=0.92,\n",
        "                                 top_k=0)\n",
        "print(\"Output:\\n\" + 100 * '-')\n",
        "model_output = tokenizer.decode(sample_output[0], skip_special_tokens=True)\n",
        "\n",
        "print(\"My GPT-2 Story:\")\n",
        "print(\"---------------\")\n",
        "\n",
        "## Replace 'None' with your story; this just wraps the text\n",
        "## to make it easier to read\n",
        "show_decoded_tokens(model_output)"
      ]
    }
  ],
  "metadata": {
    "jupytext": {
      "cell_metadata_filter": "-all",
      "main_language": "python",
      "notebook_metadata_filter": "-all"
    },
    "colab": {
      "provenance": []
    },
    "language_info": {
      "name": "python"
    },
    "kernelspec": {
      "name": "python3",
      "display_name": "Python 3"
    }
  },
  "nbformat": 4,
  "nbformat_minor": 0
}